{
  "nbformat": 4,
  "nbformat_minor": 0,
  "metadata": {
    "colab": {
      "provenance": []
    },
    "kernelspec": {
      "name": "python3",
      "display_name": "Python 3"
    },
    "language_info": {
      "name": "python"
    },
    "accelerator": "GPU",
    "gpuClass": "standard"
  },
  "cells": [
    {
      "cell_type": "code",
      "execution_count": 2,
      "metadata": {
        "id": "y2IBf9YMbBGI"
      },
      "outputs": [],
      "source": [
        "import os\n",
        "import pandas as pd\n",
        "import numpy as np\n",
        "from matplotlib import pyplot as plt\n",
        "from sklearn.model_selection import train_test_split\n",
        "import scipy\n",
        "import math"
      ]
    },
    {
      "cell_type": "code",
      "source": [
        "from google.colab import drive\n",
        "drive.mount('/content/gdrive')"
      ],
      "metadata": {
        "colab": {
          "base_uri": "https://localhost:8080/"
        },
        "id": "mZmrz4ZwbHAJ",
        "outputId": "c9ba4a4d-f67d-4b5c-e7ed-d51a05debeab"
      },
      "execution_count": 3,
      "outputs": [
        {
          "output_type": "stream",
          "name": "stdout",
          "text": [
            "Mounted at /content/gdrive\n"
          ]
        }
      ]
    },
    {
      "cell_type": "code",
      "source": [
        "import torch\n",
        "import torch.nn as nn\n",
        "from torch.utils.data import Dataset, DataLoader\n",
        "\n",
        "# Here, I used preprocessed KMRD data.\n",
        "\n",
        "class TrainDataset(Dataset):\n",
        "  def __init__(self):\n",
        "    data_path = \"/content/gdrive/MyDrive/colab notebook/data/\"\n",
        "    Xtr = pd.read_csv(os.path.join(data_path, 'movie_train_X.csv'), encoding='utf-8')\n",
        "    ytr = pd.read_csv(os.path.join(data_path, 'movie_train_y.csv'), encoding='utf-8')\n",
        "    Xtr = Xtr.to_numpy()\n",
        "    ytr = ytr.to_numpy()\n",
        "    Xtr = Xtr[:, 1:]\n",
        "    ytr = ytr[:, 1:]\n",
        "    Xtr = torch.from_numpy(Xtr.astype(np.float32))\n",
        "    ytr = torch.from_numpy(ytr.astype(np.float32))\n",
        "    self.X = Xtr\n",
        "    self.y = ytr\n",
        "\n",
        "  def __len__(self):\n",
        "      return self.X.size(0)\n",
        "\n",
        "  def __getitem__(self, index):\n",
        "      return self.X[index], self.y[index]\n"
      ],
      "metadata": {
        "id": "cTc8Y7mNbKzw"
      },
      "execution_count": 4,
      "outputs": []
    },
    {
      "cell_type": "code",
      "source": [
        "class FM(nn.Module):\n",
        "  def __init__(self, n, D):\n",
        "    super().__init__()\n",
        "    self.n = n\n",
        "    self.D = D\n",
        "    # n * D\n",
        "    self.V = nn.Embedding(self.n, self.D)\n",
        "    self.w_0 = nn.Parameter(torch.nn.Parameter(torch.randn(1))) \n",
        "    self.w = nn.Parameter(torch.nn.Parameter(torch.randn(self.n)))\n",
        "  def forward(self, x):\n",
        "    # print(x, 'a')\n",
        "    # print(x.shape, 'b')\n",
        "    # print(self.w_0.shape, 'c')\n",
        "    # print((x@self.w).shape, 'd')\n",
        "    # print((x @ self.V.weight).square().sum(dim=1).shape, 'e')\n",
        "    # print(((x.square())@((self.V.weight).square()).sum(dim=1)).shape, 'f')\n",
        "    return self.w_0 + (x@self.w) + (x @ self.V.weight).square().sum(dim=1) - ((x.square())@((self.V.weight).square())).sum(dim=1)\n",
        "        \n"
      ],
      "metadata": {
        "id": "OZe1qyTubQnf"
      },
      "execution_count": 5,
      "outputs": []
    },
    {
      "cell_type": "code",
      "source": [
        "from torch import optim\n",
        "dataset = TrainDataset()\n",
        "dataloader = DataLoader(dataset=dataset, batch_size = 8, shuffle = True, num_workers = 2)\n",
        "print(dataset[0][0].shape[0])\n",
        "device = torch.device('cuda')\n",
        "num_of_epoch = 20\n",
        "lr = 0.0001\n",
        "model = FM(n=dataset[0][0].shape[0], D = 10).to(device)\n",
        "model.parameters()\n",
        "\n",
        "optimizer = optim.SGD(model.parameters(), lr=lr)\n",
        "\n",
        "\n",
        "for epoch in range(num_of_epoch):\n",
        "  losses = 0\n",
        "  for batch_idx, (inputs, labels) in enumerate(dataloader):\n",
        "    inputs = inputs.to(device)\n",
        "    labels=labels.squeeze(dim=1)\n",
        "    labels = labels.to(device)\n",
        "    pred = model(inputs)\n",
        "    loss_func=nn.MSELoss()\n",
        "    loss = loss_func(pred, labels)\n",
        "    \n",
        "    optimizer.zero_grad()\n",
        "    loss.backward()\n",
        "    optimizer.step()\n",
        "\n",
        "    losses+=loss\n",
        "  print(f\"epoch {epoch+1}, loss = {losses/dataset.__len__()}\")"
      ],
      "metadata": {
        "colab": {
          "base_uri": "https://localhost:8080/"
        },
        "id": "epgNQsWebUG9",
        "outputId": "88bad738-eb0b-4d3b-f30b-813f04eb7d53"
      },
      "execution_count": 8,
      "outputs": [
        {
          "output_type": "stream",
          "name": "stdout",
          "text": [
            "1217\n",
            "epoch 1, loss = 49.3720703125\n",
            "epoch 2, loss = 33.869163513183594\n",
            "epoch 3, loss = 27.910171508789062\n",
            "epoch 4, loss = 24.252126693725586\n",
            "epoch 5, loss = 21.602449417114258\n",
            "epoch 6, loss = 19.57708740234375\n",
            "epoch 7, loss = 17.94602394104004\n",
            "epoch 8, loss = 16.616914749145508\n",
            "epoch 9, loss = 15.494355201721191\n",
            "epoch 10, loss = 14.546618461608887\n",
            "epoch 11, loss = 13.733144760131836\n",
            "epoch 12, loss = 13.020082473754883\n",
            "epoch 13, loss = 12.386199951171875\n",
            "epoch 14, loss = 11.817056655883789\n",
            "epoch 15, loss = 11.317814826965332\n",
            "epoch 16, loss = 10.865198135375977\n",
            "epoch 17, loss = 10.448053359985352\n",
            "epoch 18, loss = 10.070577621459961\n",
            "epoch 19, loss = 9.719149589538574\n",
            "epoch 20, loss = 9.394039154052734\n"
          ]
        }
      ]
    }
  ]
}